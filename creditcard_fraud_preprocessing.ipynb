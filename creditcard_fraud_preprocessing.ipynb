{
 "cells": [
  {
   "cell_type": "code",
   "execution_count": 77,
   "id": "b4c3351d",
   "metadata": {},
   "outputs": [],
   "source": [
    "import pandas as pd\n",
    "import sqlite3"
   ]
  },
  {
   "cell_type": "code",
   "execution_count": 78,
   "id": "49927710",
   "metadata": {},
   "outputs": [
    {
     "name": "stdout",
     "output_type": "stream",
     "text": [
      "Columns: ['Time', 'V1', 'V2', 'V3', 'V4', 'V5', 'V6', 'V7', 'V8', 'V9', 'V10', 'V11', 'V12', 'V13', 'V14', 'V15', 'V16', 'V17', 'V18', 'V19', 'V20', 'V21', 'V22', 'V23', 'V24', 'V25', 'V26', 'V27', 'V28', 'Amount', 'Class']\n",
      "Shape: (50000, 31)\n"
     ]
    }
   ],
   "source": [
    "# Load the subset dataset\n",
    "\n",
    "df = pd.read_csv('Data/creditcard_subset.csv')\n",
    "print(\"Columns:\", df.columns.tolist())\n",
    "print(\"Shape:\", df.shape)"
   ]
  },
  {
   "cell_type": "code",
   "execution_count": 79,
   "id": "af8557cc",
   "metadata": {},
   "outputs": [
    {
     "name": "stdout",
     "output_type": "stream",
     "text": [
      "Database created and data loaded.\n"
     ]
    }
   ],
   "source": [
    "# Create SQLite database\n",
    "conn = sqlite3.connect('paysim.db')\n",
    "df.to_sql('transactions', conn, if_exists='replace', index=False)\n",
    "print(\"Database created and data loaded.\")"
   ]
  },
  {
   "cell_type": "markdown",
   "id": "8f199783",
   "metadata": {},
   "source": [
    "Fraud Count by Hour:"
   ]
  },
  {
   "cell_type": "code",
   "execution_count": 80,
   "id": "4c352470",
   "metadata": {},
   "outputs": [
    {
     "name": "stdout",
     "output_type": "stream",
     "text": [
      "   Hour  Fraud_Count\n",
      "0     0            1\n",
      "1     1            1\n",
      "2     2            5\n",
      "3     3            2\n",
      "4     4            4\n"
     ]
    }
   ],
   "source": [
    "query_hour = \"\"\"\n",
    "SELECT CAST((Time / 3600) % 24 AS INTEGER) AS Hour, COUNT(*) AS Fraud_Count\n",
    "FROM transactions\n",
    "WHERE Class = 1\n",
    "GROUP BY CAST((Time / 3600) % 24 AS INTEGER)\n",
    "ORDER BY Hour ASC\n",
    "\"\"\"\n",
    "fraud_by_hour = pd.read_sql(query_hour, conn)\n",
    "fraud_by_hour.to_csv('fraud_by_hour.csv', index=False)\n",
    "print(fraud_by_hour.head())"
   ]
  },
  {
   "cell_type": "markdown",
   "id": "a706f18b",
   "metadata": {},
   "source": [
    "Average Amount by Fraud Status:"
   ]
  },
  {
   "cell_type": "code",
   "execution_count": 81,
   "id": "3981b768",
   "metadata": {},
   "outputs": [
    {
     "name": "stdout",
     "output_type": "stream",
     "text": [
      "   Class  Avg_Amount\n",
      "0      0   87.249921\n",
      "1      1  164.233855\n"
     ]
    }
   ],
   "source": [
    "query_amount = \"\"\"\n",
    "SELECT Class, AVG(Amount) AS Avg_Amount\n",
    "FROM transactions\n",
    "GROUP BY Class\n",
    "\"\"\"\n",
    "amount_by_fraud = pd.read_sql(query_amount, conn)\n",
    "amount_by_fraud.to_csv('amount_by_fraud.csv', index=False)\n",
    "print(amount_by_fraud)"
   ]
  },
  {
   "cell_type": "markdown",
   "id": "944cfdb8",
   "metadata": {},
   "source": [
    "Proportion of Fraud vs. Non-Fraud"
   ]
  },
  {
   "cell_type": "code",
   "execution_count": 82,
   "id": "043a61cd",
   "metadata": {},
   "outputs": [
    {
     "name": "stdout",
     "output_type": "stream",
     "text": [
      "   Class  Count\n",
      "0      0  49917\n",
      "1      1     83\n"
     ]
    }
   ],
   "source": [
    "query_pie = \"\"\"\n",
    "SELECT Class, COUNT(*) AS Count\n",
    "FROM transactions\n",
    "GROUP BY Class\n",
    "\"\"\"\n",
    "pie_data = pd.read_sql(query_pie, conn)\n",
    "pie_data.to_csv('pie_data.csv', index=False)\n",
    "print(pie_data)"
   ]
  },
  {
   "cell_type": "markdown",
   "id": "c2d9206d",
   "metadata": {},
   "source": [
    "Top 10 Fraud Transactions by Amount:"
   ]
  },
  {
   "cell_type": "code",
   "execution_count": 83,
   "id": "4ea3a08f",
   "metadata": {},
   "outputs": [
    {
     "name": "stdout",
     "output_type": "stream",
     "text": [
      "       Time   Amount  Time_hours  Case Rank\n",
      "0  154278.0  1504.93   42.855000          1\n",
      "1   62467.0  1402.16   17.351944          2\n",
      "2  154309.0  1096.99   42.863611          3\n",
      "3  147501.0   996.27   40.972500          4\n",
      "4   87883.0   829.41   24.411944          5\n",
      "5   39729.0   776.83   11.035833          6\n",
      "6   64785.0   720.38   17.995833          7\n",
      "7  140308.0   592.90   38.974444          8\n",
      "8   52814.0   519.90   14.670556          9\n",
      "9   60353.0   454.82   16.764722         10\n"
     ]
    }
   ],
   "source": [
    "query_top = \"\"\"\n",
    "SELECT Time, Amount\n",
    "From transactions\n",
    "WHERE Class = 1\n",
    "ORDER BY Amount DESC\n",
    "LIMIT 10\n",
    "\"\"\"\n",
    "top_fraud = pd.read_sql(query_top, conn)\n",
    "\n",
    "# Convert Time to hours\n",
    "top_fraud['Time_hours'] = top_fraud['Time'] / 3600\n",
    "\n",
    "# Add a sequential rank for each top fraud case\n",
    "top_fraud['Case Rank'] = range(1, len(top_fraud) + 1)\n",
    "\n",
    "# Save to CSV with the new column\n",
    "top_fraud.to_csv('top_fraud_days.csv', index=False)\n",
    "print(top_fraud)\n"
   ]
  },
  {
   "cell_type": "code",
   "execution_count": 84,
   "id": "39409e05",
   "metadata": {},
   "outputs": [
    {
     "name": "stdout",
     "output_type": "stream",
     "text": [
      "Database connection closed.\n"
     ]
    }
   ],
   "source": [
    "conn.close()\n",
    "print(\"Database connection closed.\")"
   ]
  }
 ],
 "metadata": {
  "kernelspec": {
   "display_name": ".venv",
   "language": "python",
   "name": "python3"
  },
  "language_info": {
   "codemirror_mode": {
    "name": "ipython",
    "version": 3
   },
   "file_extension": ".py",
   "mimetype": "text/x-python",
   "name": "python",
   "nbconvert_exporter": "python",
   "pygments_lexer": "ipython3",
   "version": "3.12.8"
  }
 },
 "nbformat": 4,
 "nbformat_minor": 5
}
